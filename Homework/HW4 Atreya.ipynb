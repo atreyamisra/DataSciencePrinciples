{
 "cells": [
  {
   "cell_type": "markdown",
   "metadata": {
    "collapsed": true
   },
   "source": [
    "\n",
    "# <p style=\"text-align: center;\">EE 461P: Data Science Principles</p>\n",
    "# <p style=\"text-align: center;\">Assignment 4</p>\n",
    "## <p style=\"text-align: center;\">Total points: 60</p>\n",
    "## <p style=\"text-align: center;\">Due: Thursday, November 9th, submitted via Canvas by 11:59 pm</p>\n",
    "\n",
    "Your homework should be written in a **Jupyter notebook**. You may work in groups of two if you wish. Only one student per team needs to submit the assignment on Canvas.  But be sure to include name and UTID for both students.  Homework groups will be created and managed through Canvas, so please do not arbitrarily change your homework group.  \n",
    "\n",
    "Also, please make sure your code runs and the graphics (and anything else) are displayed in your notebook before submitting. (%matplotlib inline)"
   ]
  },
  {
   "cell_type": "markdown",
   "metadata": {},
   "source": [
    "# Question 1 - Bayesian Classifiers (15 pts)\n",
    "\n",
    "In this problem, you will classify between digits 8 and 9 of the MNIST dataset using Bayesian classifiers (LDA, QDA and Naive Bayes) The code below loads the dataset and all necessary sklearn modules. Look up any module on the scikit-learn website for a full description.\n",
    "\n",
    "1. Train Linear Discriminant Analysis, Quadratic Discriminant Analysis, and (Gaussian) Naive Bayes. Extract the probability of the class being digits 8 or digits 9 for every row. \n",
    "2. Use this to plot the receiver operating characteristic (ROC) curve. (one figure for all 3 models, with a label for each line) \n",
    "3. Report the area under the ROC curve (AUC) for each model. (5 pts for each model. Total of 15 pts)"
   ]
  },
  {
   "cell_type": "code",
   "execution_count": 58,
   "metadata": {
    "collapsed": true
   },
   "outputs": [],
   "source": [
    "%matplotlib inline\n",
    "import pandas as pd\n",
    "from sklearn.model_selection import train_test_split\n",
    "from sklearn.metrics import roc_curve, roc_auc_score\n",
    "from sklearn.naive_bayes import GaussianNB\n",
    "from sklearn.discriminant_analysis import LinearDiscriminantAnalysis as LDA\n",
    "from sklearn.discriminant_analysis import QuadraticDiscriminantAnalysis as QDA\n",
    "import numpy as np\n",
    "import matplotlib.pyplot as plt"
   ]
  },
  {
   "cell_type": "code",
   "execution_count": 59,
   "metadata": {
    "collapsed": true
   },
   "outputs": [],
   "source": [
    "import matplotlib.pyplot as plt\n",
    "from sklearn.datasets import fetch_mldata\n",
    "\n",
    "mnist = fetch_mldata(\"MNIST original\", data_home='./dataset/')  # data downloaded in'./dataset/', change if necessary\n",
    "\n",
    "X= (mnist.data / 255.)\n",
    "y = mnist.target\n",
    "\n",
    "X_train = X[:60000]\n",
    "y_train = y[:60000]\n",
    "\n",
    "X_test = X[60000:]\n",
    "y_test = y[60000:]"
   ]
  },
  {
   "cell_type": "code",
   "execution_count": 60,
   "metadata": {},
   "outputs": [
    {
     "name": "stdout",
     "output_type": "stream",
     "text": [
      "((11800L, 784L), (11800L,), (1983L, 784L), (1983L,))\n"
     ]
    }
   ],
   "source": [
    "idx = (y_train == 8) + (y_train==9)\n",
    "X_train = X_train[idx]\n",
    "y_train = y_train[idx]\n",
    "y_train = (y_train-8)\n",
    "\n",
    "idx = (y_test == 8) + (y_test==9)\n",
    "X_test = X_test[idx]\n",
    "y_test = y_test[idx]\n",
    "y_test = (y_test-8)\n",
    "\n",
    "print(X_train.shape, y_train.shape, X_test.shape, y_test.shape)"
   ]
  },
  {
   "cell_type": "markdown",
   "metadata": {},
   "source": [
    "## Solutions"
   ]
  },
  {
   "cell_type": "code",
   "execution_count": 61,
   "metadata": {},
   "outputs": [
    {
     "name": "stdout",
     "output_type": "stream",
     "text": [
      "('LDA Probabilities: ', array([[  9.99740516e-01,   2.59484124e-04],\n",
      "       [  9.99999830e-01,   1.69840181e-07],\n",
      "       [  9.99978789e-01,   2.12106777e-05],\n",
      "       ..., \n",
      "       [  2.82800672e-09,   9.99999997e-01],\n",
      "       [  5.97602137e-08,   9.99999940e-01],\n",
      "       [  1.59061098e-09,   9.99999998e-01]]))\n",
      "('QDA Probabilities: ', array([[  1.00000000e+000,   1.25488809e-296],\n",
      "       [  1.00000000e+000,   0.00000000e+000],\n",
      "       [  1.00000000e+000,   0.00000000e+000],\n",
      "       ..., \n",
      "       [  0.00000000e+000,   1.00000000e+000],\n",
      "       [  0.00000000e+000,   1.00000000e+000],\n",
      "       [  0.00000000e+000,   1.00000000e+000]]))\n",
      "('Naive Bayes Probabilities: ', array([[  1.00000000e+000,   0.00000000e+000],\n",
      "       [  1.00000000e+000,   0.00000000e+000],\n",
      "       [  1.00000000e+000,   0.00000000e+000],\n",
      "       ..., \n",
      "       [  4.29907815e-178,   1.00000000e+000],\n",
      "       [  2.35127896e-114,   1.00000000e+000],\n",
      "       [  1.72617317e-182,   1.00000000e+000]]))\n"
     ]
    }
   ],
   "source": [
    "lda = LDA()\n",
    "lda.fit(X_train, y_train)\n",
    "print(\"LDA Probabilities: \", lda.predict_proba(X_test))\n",
    "\n",
    "qda = QDA()\n",
    "qda.fit(X_train, y_train)\n",
    "print(\"QDA Probabilities: \", qda.predict_proba(X_test))\n",
    "\n",
    "nb = GaussianNB()\n",
    "nb.fit(X_train, y_train)\n",
    "print(\"Naive Bayes Probabilities: \", nb.predict_proba(X_test))"
   ]
  },
  {
   "cell_type": "code",
   "execution_count": 62,
   "metadata": {},
   "outputs": [
    {
     "data": {
      "text/plain": [
       "<matplotlib.legend.Legend at 0x15f67cf8>"
      ]
     },
     "execution_count": 62,
     "metadata": {},
     "output_type": "execute_result"
    },
    {
     "data": {
      "image/png": "[encoded data removed]",
      "text/plain": [
       "<matplotlib.figure.Figure at 0x15cb5518>"
      ]
     },
     "metadata": {},
     "output_type": "display_data"
    }
   ],
   "source": [
    "roc_lda = roc_curve(y_test, lda.predict_proba(X_test)[:,1])\n",
    "roc_qda = roc_curve(y_test, qda.predict_proba(X_test)[:,1])\n",
    "roc_nb = roc_curve(y_test, nb.predict_proba(X_test)[:,1])\n",
    "\n",
    "plt.plot(roc_lda[0], roc_lda[1], c = 'g', label = 'LDA')\n",
    "plt.plot(roc_qda[0], roc_qda[1], c = 'r', label = 'QDA')\n",
    "plt.plot(roc_nb[0], roc_nb[1], c = 'b', label = 'NB')\n",
    "\n",
    "plt.xlabel('False positive rate')\n",
    "plt.ylabel('True positive rate')\n",
    "plt.title('ROC for LDA, QB, NA')\n",
    "\n",
    "plt.legend()\n",
    "    "
   ]
  },
  {
   "cell_type": "code",
   "execution_count": 63,
   "metadata": {},
   "outputs": [
    {
     "name": "stdout",
     "output_type": "stream",
     "text": [
      "('AUC for LDA: ', 0.99360580239853646)\n",
      "('AUC for QDA: ', 0.94137108935392566)\n",
      "('AUC for NB: ', 0.90165817702281104)\n"
     ]
    }
   ],
   "source": [
    "print(\"AUC for LDA: \", roc_auc_score(y_test, lda.predict_proba(X_test)[:,1]))\n",
    "print(\"AUC for QDA: \", roc_auc_score(y_test, qda.predict_proba(X_test)[:,1]))\n",
    "print(\"AUC for NB: \", roc_auc_score(y_test, nb.predict_proba(X_test)[:,1]))"
   ]
  },
  {
   "cell_type": "markdown",
   "metadata": {},
   "source": [
    "# Question 2: Bayesian Networks (10 pts)\n",
    "In the Bayesian Network shown below, the nodes represent the following random variables: S stands for \"Smoking\", LC for \"Lung Cancer\", B for \"Bronchitis\", T for \"Tuberculosis\", D for \"Dyspnea\". The necessary conditional probabilities are provided alongside. "
   ]
  },
  {
   "cell_type": "code",
   "execution_count": 47,
   "metadata": {},
   "outputs": [
    {
     "data": {
      "image/png": "[encoded data removed]",
      "text/plain": [
       "<IPython.core.display.Image object>"
      ]
     },
     "execution_count": 47,
     "metadata": {},
     "output_type": "execute_result"
    }
   ],
   "source": [
    "from IPython.display import Image\n",
    "Image(filename='BayesianNetworks.png')"
   ]
  },
  {
   "cell_type": "markdown",
   "metadata": {},
   "source": [
    "$$Pr(S = yes) = 0.1$$\n",
    "$$Pr(LC = yes | S = yes) = 0.03$$\n",
    "$$Pr(LC = yes | S = no) = 0.01$$\n",
    "$$Pr(B = yes | S = yes) = 0.06$$\n",
    "$$Pr(B = yes | S = no) = 0.02$$\n",
    "$$Pr(T = yes | LC = yes, B = yes) = 0.8$$\n",
    "$$Pr(T = yes | LC = yes, B = no) = 0.5$$\n",
    "$$Pr(T = yes | LC = no, B = yes) = 0.1$$\n",
    "$$Pr(T = yes | LC = no, B = no) = 0.04$$\n",
    "$$Pr(D = yes | T = yes, B = yes) = 0.9$$\n",
    "$$Pr(D = yes | T = yes, B = no) = 0.7$$\n",
    "$$Pr(D = yes | T = no, B = yes) = 0.65$$\n",
    "$$Pr(D = yes | T = no, B = no) = 0.015$$"
   ]
  },
  {
   "cell_type": "markdown",
   "metadata": {},
   "source": [
    "Compute the following probabilities:\n",
    "\n",
    "(a) (2 pts) $Pr(D = yes)$\n",
    "\n",
    "(b) (2 pts) $Pr(LC = no, B = yes, D = yes)$\n",
    "\n",
    "(c) (3 pts) Given that a person has Bronchitis (B = yes) and no Lung Cancer (LC = no), the probability he will has symptoms of Dyspnea (D = yes).\n",
    "\n",
    "(d) (3 pts) Given that a person is a smoker (S = yes), the probability he will get infected with Tuberculosis (T = yes)."
   ]
  },
  {
   "cell_type": "markdown",
   "metadata": {},
   "source": [
    "## Solutions"
   ]
  },
  {
   "cell_type": "markdown",
   "metadata": {},
   "source": [
    "# Question 3 - Logistic Regression Classification (15pts)\n",
    "\n",
    "Using the MNIST dataset in Q1, the goal is to build a Logistic Regression classifier to classify between digits $\\textbf{8 and 9}$.  Note that the imported MNIST dataset has 10 labels, from digits 0 to 9.  Use the code below to access the data set and extract the MNIST data."
   ]
  },
  {
   "cell_type": "code",
   "execution_count": 1,
   "metadata": {},
   "outputs": [
    {
     "name": "stdout",
     "output_type": "stream",
     "text": [
      "((11800, 784), (11800,), (1983, 784), (1983,))\n"
     ]
    }
   ],
   "source": [
    "%matplotlib inline\n",
    "import pandas as pd\n",
    "from sklearn.model_selection import train_test_split\n",
    "from sklearn.metrics import roc_curve, roc_auc_score\n",
    "from sklearn.naive_bayes import GaussianNB\n",
    "from sklearn.discriminant_analysis import LinearDiscriminantAnalysis as LDA\n",
    "from sklearn.discriminant_analysis import QuadraticDiscriminantAnalysis as QDA\n",
    "import numpy as np\n",
    "import matplotlib.pyplot as plt\n",
    "\n",
    "import matplotlib.pyplot as plt\n",
    "from sklearn.datasets import fetch_mldata\n",
    "\n",
    "mnist = fetch_mldata(\"MNIST original\", data_home='./dataset/')  # data downloaded in'./dataset/', change if necessary\n",
    "\n",
    "X= (mnist.data / 255.)\n",
    "y = mnist.target\n",
    "\n",
    "X_train = X[:60000]\n",
    "y_train = y[:60000]\n",
    "\n",
    "X_test = X[60000:]\n",
    "y_test = y[60000:]\n",
    "\n",
    "idx = (y_train == 8) + (y_train==9)\n",
    "X_train = X_train[idx]\n",
    "y_train = y_train[idx]\n",
    "y_train = (y_train-8)\n",
    "\n",
    "idx = (y_test == 8) + (y_test==9)\n",
    "X_test = X_test[idx]\n",
    "y_test = y_test[idx]\n",
    "y_test = (y_test-8)\n",
    "\n",
    "print(X_train.shape, y_train.shape, X_test.shape, y_test.shape)"
   ]
  },
  {
   "cell_type": "markdown",
   "metadata": {},
   "source": [
    "1. Train a logistic regression with almost no regularization (pass l2 (ridge) to penalty and 1,000,000 to the C parameter which is the inverse of regularization strength lambda. This essentially does l2 regularization but applies very little weight to the penalty term) and report the [confusion matrix](http://scikit-learn.org/stable/modules/generated/sklearn.metrics.confusion_matrix.html) on the test data. Also report the accuracy for the \"y = 0\" class, the \"y = 1\" class, and the average per-class accuracy on the test data. Average per-class accuracy is described in this [post](http://rasbt.github.io/mlxtend/user_guide/evaluate/scoring/). You can use your confusion matrix to calculate this.  (4pts)\n",
    "2. Repeat step 1 except use l2 penalty with Cs of [0.01, 0.1, 1, 10 ,100]. You will want to use 3-fold cross validation to select the best parameter. To evaluate which parameter is best, maximize the average per-class accuracy. To help with this task, check out [GridSearchCV](http://scikit-learn.org/stable/modules/generated/sklearn.model_selection.GridSearchCV.html#sklearn.model_selection.GridSearchCV) and how to make your own [custom scorer](http://scikit-learn.org/stable/modules/model_evaluation.html).  (4pts)\n",
    "3. Repeat question 2 except use l1 instead of l2 as the penalty type, use Cs of  [0.01, ..., 100].  Compare the performances of the models (no regularization, l2, l1) using the average per-class accuracy.  (3pts)\n",
    "4. Using the optimal regularization parameter obtained in step 2, train a logistic regression classifier with ridge penalty to clasify $\\textbf{all 10 digits}$ (digits 0,1,2,3,...9) of the MNIST dataset.  Use 'newton-cg' and 'multinomial' options for solver and multi_class parameters, respectively. Report the average per-class accuracy and confusion matrix (10 X 10) on the test data. (4pts)"
   ]
  },
  {
   "cell_type": "markdown",
   "metadata": {},
   "source": [
    "## Solutions"
   ]
  },
  {
   "cell_type": "code",
   "execution_count": 9,
   "metadata": {},
   "outputs": [
    {
     "name": "stdout",
     "output_type": "stream",
     "text": [
      "[[939  35]\n",
      " [ 35 974]]\n",
      "('Class 1 accuracy is ', 0.9640657084188912)\n",
      "('Class 0 accuracy is ', 0.9653121902874133)\n",
      "('average per class accuracy is', 0.9735249621785174)\n"
     ]
    }
   ],
   "source": [
    "from sklearn.linear_model import LogisticRegression\n",
    "from sklearn.metrics import confusion_matrix\n",
    "\n",
    "log=LogisticRegression(penalty='l2', C=1000000)\n",
    "\n",
    "log.fit(X_train, y_train)\n",
    "\n",
    "y_predict=log.predict(X_test)\n",
    "\n",
    "conf=confusion_matrix(y_test, y_predict)\n",
    "\n",
    "print('Class 1 accuracy is ', float(conf[0][0])/sum(conf[0]))\n",
    "print('Class 0 accuracy is ', float(conf[1][1])/sum(conf[1]))\n",
    "\n",
    "tot=sum(conf[0])+sum(conf[1])\n",
    "poscls=conf[0][0]+conf[1][1]\n",
    "negcls=poscls+conf[0][1]\n",
    "\n",
    "apc=((float(poscls)/tot)+(float(negcls)/tot))/2\n",
    "print ('average per class accuracy is', apc)"
   ]
  },
  {
   "cell_type": "code",
   "execution_count": 16,
   "metadata": {},
   "outputs": [
    {
     "name": "stdout",
     "output_type": "stream",
     "text": [
      "(array([ 0.98088983,  0.98588983,  0.98699153,  0.98368644,  0.9809322 ]), 'so C=1 is best with l2')\n"
     ]
    }
   ],
   "source": [
    "from sklearn.model_selection import GridSearchCV\n",
    "from sklearn.metrics import make_scorer\n",
    "\n",
    "parameters={'C':[0.01, 0.1, 1, 10 ,100]}\n",
    "\n",
    "def scoreByAPC(true, predictions):\n",
    "    conf=confusion_matrix(true, predictions)\n",
    "    tot=sum(conf[0])+sum(conf[1])\n",
    "    poscls=conf[0][0]+conf[1][1]\n",
    "    negcls=poscls+conf[0][1]\n",
    "\n",
    "    apc=((float(poscls)/tot)+(float(negcls)/tot))/2\n",
    "    return apc\n",
    "\n",
    "scorer=make_scorer(scoreByAPC)\n",
    "\n",
    "\n",
    "cv=GridSearchCV(cv=3, param_grid=parameters, scoring=scorer, estimator=LogisticRegression(penalty='l2'))\n",
    "\n",
    "cv.fit(X_train, y_train)\n",
    "\n",
    "results=cv.cv_results_['mean_test_score']\n",
    "\n",
    "print (results, 'so C=1 is best with l2')\n",
    "\n"
   ]
  },
  {
   "cell_type": "code",
   "execution_count": 17,
   "metadata": {},
   "outputs": [
    {
     "name": "stdout",
     "output_type": "stream",
     "text": [
      "(array([ 0.96076271,  0.98122881,  0.98588983,  0.98220339,  0.98038136]), 'so C=1 is best with l1')\n"
     ]
    }
   ],
   "source": [
    "from sklearn.model_selection import GridSearchCV\n",
    "from sklearn.metrics import make_scorer\n",
    "\n",
    "parameters={'C':[0.01, 0.1, 1, 10 ,100]}\n",
    "\n",
    "def scoreByAPC(true, predictions):\n",
    "    conf=confusion_matrix(true, predictions)\n",
    "    tot=sum(conf[0])+sum(conf[1])\n",
    "    poscls=conf[0][0]+conf[1][1]\n",
    "    negcls=poscls+conf[0][1]\n",
    "\n",
    "    apc=((float(poscls)/tot)+(float(negcls)/tot))/2\n",
    "    return apc\n",
    "\n",
    "scorer=make_scorer(scoreByAPC)\n",
    "\n",
    "\n",
    "cv=GridSearchCV(cv=3, param_grid=parameters, scoring=scorer, estimator=LogisticRegression(penalty='l1'))\n",
    "\n",
    "cv.fit(X_train, y_train)\n",
    "\n",
    "results=cv.cv_results_['mean_test_score']\n",
    "\n",
    "print (results, 'so C=1 is best with l1')"
   ]
  },
  {
   "cell_type": "code",
   "execution_count": 25,
   "metadata": {},
   "outputs": [
    {
     "name": "stdout",
     "output_type": "stream",
     "text": [
      "('Confusion matrix is ', array([[ 960,    0,    1,    2,    0,    5,    6,    3,    1,    2],\n",
      "       [   0, 1112,    3,    1,    0,    1,    5,    1,   12,    0],\n",
      "       [   8,    8,  920,   20,    9,    5,   10,   11,   37,    4],\n",
      "       [   4,    0,   17,  919,    2,   22,    4,   12,   21,    9],\n",
      "       [   1,    2,    5,    3,  914,    0,   10,    2,    7,   38],\n",
      "       [  10,    2,    0,   42,   10,  769,   17,    7,   28,    7],\n",
      "       [   9,    3,    7,    2,    6,   20,  907,    1,    3,    0],\n",
      "       [   2,    7,   22,    5,    8,    1,    1,  950,    5,   27],\n",
      "       [  10,   14,    5,   21,   14,   27,    7,   11,  853,   12],\n",
      "       [   8,    8,    2,   13,   31,   14,    0,   24,   12,  897]]))\n",
      "('Average per class accuracy is', 0.89558181818181815)\n"
     ]
    }
   ],
   "source": [
    "X= (mnist.data / 255.)\n",
    "y = mnist.target\n",
    "\n",
    "X_train = X[:60000]\n",
    "y_train = y[:60000]\n",
    "\n",
    "X_test = X[60000:]\n",
    "y_test = y[60000:]\n",
    "\n",
    "parameters={'C':[0.01, 0.1, 1, 10 ,100]}\n",
    "\n",
    "def scoreByAPC(true, predictions):\n",
    "    conf=confusion_matrix(true, predictions)\n",
    "    tot=np.sum(conf)\n",
    "    poscls=np.sum(np.diag(conf))\n",
    "    negcls=np.zeros(len(conf)+1)\n",
    "    for i in xrange(len(conf)):\n",
    "        neg=tot-np.sum(conf[i])+conf[i][i]\n",
    "        negcls[i]=float(neg)/tot\n",
    "    negcls[i]=float(poscls)/tot\n",
    "    return np.mean(negcls)\n",
    "\n",
    "scorer=make_scorer(scoreByAPC)\n",
    "\n",
    "\n",
    "cv=GridSearchCV(cv=3, param_grid=parameters, scoring=scorer, estimator=LogisticRegression(penalty='l2'))\n",
    "\n",
    "cv.fit(X_train, y_train)\n",
    "\n",
    "y_predict=cv.predict(X_test)\n",
    "\n",
    "conf=confusion_matrix(y_test, y_predict)\n",
    "\n",
    "print ('Confusion matrix is ', conf)\n",
    "\n",
    "average=scoreByAPC(y_test, y_predict)\n",
    "\n",
    "print ('Average per class accuracy is', average)\n"
   ]
  },
  {
   "cell_type": "markdown",
   "metadata": {},
   "source": [
    "# Question 4: Regression Trees (6+5+4 = 15 points)\n",
    "In this question, we will be exploring the application of regression tree (RT) using sklearn package in Python. \n",
    "\n",
    "You will be using an NBA dataset (nbasalariesfull.csv) to predict a player’s Salary using all the numeric performance variables available ( so everything but Player, Team, and Position ). \n",
    "\n",
    "- a. Use a random state of 42 and a test size of 1/3 to split the data into training and test.\n",
    "     \n",
    "         Build a regression using DecisionTreeRegressor with max_depth = 6. \n",
    "         Report the mean squared errors on both training and test datasets.( 6 points )\n",
    "\n",
    "\n",
    "- b. Repeat Part-1 with max_depth = 2. (5 points )\n",
    "\n",
    "\n",
    "- c. Briefly explain what you observe from these MSE values obtained by using maximum tree depths 6 and 2? \n",
    "         Which tree is better and why? ( 4 points )"
   ]
  },
  {
   "cell_type": "markdown",
   "metadata": {},
   "source": [
    "## Solutions"
   ]
  },
  {
   "cell_type": "markdown",
   "metadata": {},
   "source": [
    "# Question 5.  AUC vs Lift Curve ( 5 points )\n",
    "Describe the similarities and differences between AUC and Lift Curves."
   ]
  },
  {
   "cell_type": "markdown",
   "metadata": {},
   "source": [
    "## Solution"
   ]
  }
 ],
 "metadata": {
  "kernelspec": {
   "display_name": "Python 2",
   "language": "python",
   "name": "python2"
  },
  "language_info": {
   "codemirror_mode": {
    "name": "ipython",
    "version": 2
   },
   "file_extension": ".py",
   "mimetype": "text/x-python",
   "name": "python",
   "nbconvert_exporter": "python",
   "pygments_lexer": "ipython2",
   "version": "2.7.13"
  }
 },
 "nbformat": 4,
 "nbformat_minor": 1
}
